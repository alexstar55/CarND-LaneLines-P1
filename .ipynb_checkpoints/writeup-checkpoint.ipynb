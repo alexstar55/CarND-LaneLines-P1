{
 "cells": [
  {
   "cell_type": "markdown",
   "metadata": {},
   "source": [
    "**Finding Lane Lines on the Road**\n",
    "\n",
    "The goals / steps of this project are the following:\n",
    "* Make a pipeline that finds lane lines on the road\n",
    "* Reflect on your work in a written report  \n",
    "\n",
    "![Grayscale](./examples/grayscale.jpg )\n",
    "\n",
    "---"
   ]
  },
  {
   "cell_type": "markdown",
   "metadata": {},
   "source": [
    "## Reflection\n",
    "\n",
    "### Describe your pipeline. As part of the description, explain how you modified the draw_lines() function.\n",
    "\n",
    "My pipeline consisted of 6 steps.  \n",
    "- First, I converted the image to grayscale;  \n",
    "- Then I processed the gray image with gaussian_blur so that the pixels would be picked with different weight so that some noise would be filtered.  \n",
    "- The blured image were processed by canny method to get edges  \n",
    "- Region_of_interest was applied to keep only the region of the image defined by the polygon formed from `vertices`  \n",
    "- Using hough_lines method to draw lines in the image  \n",
    "- Weighted_img() would make adjustment to show a better result.\n",
    "\n",
    "\n",
    "![out_sample](./out.png)"
   ]
  },
  {
   "cell_type": "markdown",
   "metadata": {},
   "source": [
    "\n",
    "###  Identify potential shortcomings with your current pipeline\n",
    "\n",
    "\n",
    "The code is not stable. It is only can work in good road condition.  \n",
    "One potential shortcoming would be the masked region was set by fixed parameters, so if the road appears at a different rigion of one picture, the line may not be fully drawn or some other objects which were not lanes would generate lines.   \n",
    "\n",
    "### Suggest possible improvements to your pipeline\n",
    "\n",
    "A possible improvement would be to change draw line method, optimize it to average across all slope and intercepts; another impovement may be some kind of deep learning method."
   ]
  },
  {
   "cell_type": "code",
   "execution_count": null,
   "metadata": {
    "collapsed": true
   },
   "outputs": [],
   "source": []
  }
 ],
 "metadata": {
  "kernelspec": {
   "display_name": "Python [conda env:py36]",
   "language": "python",
   "name": "conda-env-py36-py"
  },
  "language_info": {
   "codemirror_mode": {
    "name": "ipython",
    "version": 3
   },
   "file_extension": ".py",
   "mimetype": "text/x-python",
   "name": "python",
   "nbconvert_exporter": "python",
   "pygments_lexer": "ipython3",
   "version": "3.6.2"
  },
  "toc": {
   "base_numbering": 1,
   "nav_menu": {},
   "number_sections": true,
   "sideBar": true,
   "skip_h1_title": false,
   "title_cell": "Table of Contents",
   "title_sidebar": "Contents",
   "toc_cell": false,
   "toc_position": {},
   "toc_section_display": true,
   "toc_window_display": false
  },
  "varInspector": {
   "cols": {
    "lenName": 16,
    "lenType": 16,
    "lenVar": 40
   },
   "kernels_config": {
    "python": {
     "delete_cmd_postfix": "",
     "delete_cmd_prefix": "del ",
     "library": "var_list.py",
     "varRefreshCmd": "print(var_dic_list())"
    },
    "r": {
     "delete_cmd_postfix": ") ",
     "delete_cmd_prefix": "rm(",
     "library": "var_list.r",
     "varRefreshCmd": "cat(var_dic_list()) "
    }
   },
   "types_to_exclude": [
    "module",
    "function",
    "builtin_function_or_method",
    "instance",
    "_Feature"
   ],
   "window_display": false
  }
 },
 "nbformat": 4,
 "nbformat_minor": 2
}
